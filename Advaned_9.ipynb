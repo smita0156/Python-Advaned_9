{
 "cells": [
  {
   "cell_type": "code",
   "execution_count": null,
   "id": "c858ec39-6532-44eb-add1-c01bf99fc5ce",
   "metadata": {},
   "outputs": [],
   "source": [
    "Q1. In Python 3.X, what are the names and functions of string object types?"
   ]
  },
  {
   "cell_type": "code",
   "execution_count": null,
   "id": "7a1f43b1-d6a3-4ef6-bfbd-15f3b5ba7fba",
   "metadata": {},
   "outputs": [],
   "source": [
    "str.islower()\tString's alphabetic characters are all lower case"
   ]
  },
  {
   "cell_type": "code",
   "execution_count": null,
   "id": "33f04a00-7573-4aab-b8eb-418cbf6b8f3f",
   "metadata": {},
   "outputs": [],
   "source": [
    "str.isnumeric()\tString consists of only numeric characters"
   ]
  },
  {
   "cell_type": "code",
   "execution_count": null,
   "id": "30e9895b-3e11-42c4-8b76-b8a75c498dd8",
   "metadata": {},
   "outputs": [],
   "source": [
    "str.isspace()\tString consists of only whitespace characters"
   ]
  },
  {
   "cell_type": "code",
   "execution_count": null,
   "id": "4d344658-20a8-4036-a51b-44d1e05ab631",
   "metadata": {},
   "outputs": [],
   "source": [
    "str.istitle()\tString is in title case"
   ]
  },
  {
   "cell_type": "code",
   "execution_count": null,
   "id": "652f5c65-3058-41b8-8f4d-4d5c37b70dcf",
   "metadata": {},
   "outputs": [],
   "source": [
    "Q2. How do the string forms in Python 3.X vary in terms of operations?"
   ]
  },
  {
   "cell_type": "code",
   "execution_count": null,
   "id": "f1fb9396-5241-4551-a5d7-88188d3bbd47",
   "metadata": {},
   "outputs": [],
   "source": [
    "Format() method was introduced with Python3 for handling complex string formatting more efficiently. Formatters work by putting in one or more replacement fields and placeholders defined by a pair of curly braces { } into a string and calling the str. format()."
   ]
  },
  {
   "cell_type": "code",
   "execution_count": null,
   "id": "72f32f0f-d04a-4d2b-8a6b-e53f74cc3d54",
   "metadata": {},
   "outputs": [],
   "source": [
    "Q3. In 3.X, how do you put non-ASCII Unicode characters in a string?"
   ]
  },
  {
   "cell_type": "code",
   "execution_count": null,
   "id": "057e3fa2-37a3-4998-b90b-daa724ff0412",
   "metadata": {},
   "outputs": [],
   "source": [
    "Add one escape sequence for the character we want to print."
   ]
  },
  {
   "cell_type": "code",
   "execution_count": null,
   "id": "ab172b3b-a68d-4f11-a58d-26e732b1b211",
   "metadata": {},
   "outputs": [],
   "source": [
    "Q4. In Python 3.X, what are the key differences between text-mode and binary-mode files?"
   ]
  },
  {
   "cell_type": "code",
   "execution_count": null,
   "id": "ff094cec-9eeb-467b-b754-df8cc4a629af",
   "metadata": {},
   "outputs": [],
   "source": [
    "In text mode, Python automatically handles the encoding and decoding of the data, depending on the platform's default encoding scheme. Binary files, on the other hand, are files that contain non-text data, such as images, audio files, and executable files."
   ]
  },
  {
   "cell_type": "code",
   "execution_count": null,
   "id": "50634799-9e27-4f0e-95e3-0a498ed732b7",
   "metadata": {},
   "outputs": [],
   "source": [
    "Q5. How can you interpret a Unicode text file containing text encoded in a different encoding than\n",
    "your platforms default?"
   ]
  },
  {
   "cell_type": "code",
   "execution_count": null,
   "id": "51a78c8f-9910-4232-ba62-35cee3e84969",
   "metadata": {},
   "outputs": [],
   "source": [
    "16-bit"
   ]
  },
  {
   "cell_type": "code",
   "execution_count": null,
   "id": "b6f4c276-7376-4c34-8ad0-c7093a3d15bf",
   "metadata": {},
   "outputs": [],
   "source": [
    "UTF-8"
   ]
  },
  {
   "cell_type": "code",
   "execution_count": null,
   "id": "af7a1d68-86ff-4fce-b59f-197bd4439a9e",
   "metadata": {},
   "outputs": [],
   "source": [
    "UTF-8, UTF-16, and UTF-32"
   ]
  },
  {
   "cell_type": "code",
   "execution_count": null,
   "id": "e72ca24a-4942-42a6-9c83-3c18c3b7fcac",
   "metadata": {},
   "outputs": [],
   "source": [
    "Q6. What is the best way to make a Unicode text file in a particular encoding format?"
   ]
  },
  {
   "cell_type": "code",
   "execution_count": null,
   "id": "56728d0a-be26-4936-8e4a-1fdb154ab079",
   "metadata": {},
   "outputs": [],
   "source": [
    "Use the built-in open() function with the 'w' mode and specifying the encoding as \"utf-8\"."
   ]
  },
  {
   "cell_type": "code",
   "execution_count": null,
   "id": "08f3aac6-febb-44d3-abd1-ada27b069190",
   "metadata": {},
   "outputs": [],
   "source": [
    "A universal encoding scheme for written characters and text."
   ]
  },
  {
   "cell_type": "code",
   "execution_count": null,
   "id": "527fd0f9-ecd1-468b-97ff-2e37ca0c9947",
   "metadata": {},
   "outputs": [],
   "source": [
    "Q7. What qualifies ASCII text as a form of Unicode text?"
   ]
  },
  {
   "cell_type": "code",
   "execution_count": null,
   "id": "dc398e52-2808-4daa-ad2d-a8c671d4cd62",
   "metadata": {},
   "outputs": [],
   "source": [
    "Unicode includes all the characters that can be encoded in ASCII"
   ]
  },
  {
   "cell_type": "code",
   "execution_count": null,
   "id": "0879c226-17b2-4a52-8653-c710c0a83428",
   "metadata": {},
   "outputs": [],
   "source": [
    "ASCII has its equivalent in Unicode"
   ]
  },
  {
   "cell_type": "code",
   "execution_count": null,
   "id": "45590d9e-bdb6-408f-a32b-88b648574a6f",
   "metadata": {},
   "outputs": [],
   "source": [
    "Q8. How much of an effect does the change in string types in Python 3.X have on your code?"
   ]
  },
  {
   "cell_type": "code",
   "execution_count": null,
   "id": "7cf6b235-f1be-41ea-9d57-3bff38b0b275",
   "metadata": {},
   "outputs": [],
   "source": [
    "Changing the print declaration to a built-in function, improved integer division, and improved Unicode support."
   ]
  }
 ],
 "metadata": {
  "kernelspec": {
   "display_name": "Python 3 (ipykernel)",
   "language": "python",
   "name": "python3"
  },
  "language_info": {
   "codemirror_mode": {
    "name": "ipython",
    "version": 3
   },
   "file_extension": ".py",
   "mimetype": "text/x-python",
   "name": "python",
   "nbconvert_exporter": "python",
   "pygments_lexer": "ipython3",
   "version": "3.10.6"
  }
 },
 "nbformat": 4,
 "nbformat_minor": 5
}
